{
 "cells": [
  {
   "cell_type": "code",
   "execution_count": 1,
   "metadata": {},
   "outputs": [],
   "source": [
    "from torch.utils.data import DataLoader\n",
    "from torchvision import transforms, datasets\n",
    "import numpy as np\n",
    "from sklearn import svm\n",
    "from sklearn.metrics import accuracy_score\n",
    "from sklearn.tree import DecisionTreeClassifier\n",
    "from scipy.stats import randint\n",
    "from sklearn.model_selection import GridSearchCV"
   ]
  },
  {
   "cell_type": "code",
   "execution_count": 2,
   "metadata": {},
   "outputs": [
    {
     "name": "stdout",
     "output_type": "stream",
     "text": [
      "Files already downloaded and verified\n",
      "Files already downloaded and verified\n"
     ]
    }
   ],
   "source": [
    "# CIFAR-10\n",
    "CIFAR_transform_train = transforms.Compose([transforms.ToTensor()])\n",
    "CIFAR_transform_test =transforms.Compose([transforms.ToTensor()])\n",
    "trainset_CIFAR = datasets.CIFAR10(root='./data', train=True, download=True, transform=\n",
    "CIFAR_transform_train)\n",
    "testset_CIFAR = datasets.CIFAR10(root='./data', train=False, download=True,\n",
    "transform=CIFAR_transform_test)\n",
    "CIFAR_train = DataLoader(trainset_CIFAR, batch_size=32, shuffle=True, num_workers=2)\n",
    "CIFAR_test = DataLoader(testset_CIFAR, batch_size=32, shuffle=False, num_workers=2)\n",
    "CIFAR_train_images = []\n",
    "CIFAR_train_labels = []\n",
    "for batch in CIFAR_train:\n",
    "    images, labels = batch\n",
    "    images_flat = images.view(images.shape[0], -1)\n",
    "    CIFAR_train_images.append(images_flat.numpy())\n",
    "    CIFAR_train_labels.append(labels.numpy())\n",
    "CIFAR_train_images = np.vstack(CIFAR_train_images)\n",
    "CIFAR_train_labels = np.concatenate(CIFAR_train_labels)\n",
    "CIFAR_test_images = []\n",
    "CIFAR_test_labels = []\n",
    "for batch in CIFAR_test:\n",
    "    images, labels = batch\n",
    "    images_flat = images.view(images.shape[0], -1)\n",
    "    CIFAR_test_images.append(images_flat.numpy())\n",
    "    CIFAR_test_labels.append(labels.numpy())\n",
    "CIFAR_test_images = np.vstack(CIFAR_test_images)\n",
    "CIFAR_test_labels = np.concatenate(CIFAR_test_labels)"
   ]
  },
  {
   "cell_type": "code",
   "execution_count": 3,
   "metadata": {},
   "outputs": [],
   "source": [
    "# MNIST\n",
    "mnist_train_transform = transforms.Compose([transforms.ToTensor()])\n",
    "mnist_test_transform = transforms.Compose([transforms.ToTensor()])\n",
    "trainset_mnist = datasets.MNIST(root='./data', train=True, download=True,\n",
    "transform=mnist_train_transform)\n",
    "testset_mnist = datasets.MNIST(root='./data', train=False, download=True,\n",
    "transform=mnist_test_transform)\n",
    "MNIST_train = DataLoader(trainset_mnist, batch_size=32, shuffle=True, num_workers=2)\n",
    "MNIST_test = DataLoader(testset_mnist, batch_size=32, shuffle=False, num_workers=2)\n",
    "MNIST_train_images = []\n",
    "MNIST_train_labels = []\n",
    "for batch in MNIST_train:\n",
    "    images, labels = batch\n",
    "    images_flat = images.view(images.shape[0], -1)\n",
    "    MNIST_train_images.append(images_flat.numpy())\n",
    "    MNIST_train_labels.append(labels.numpy())\n",
    "MNIST_train_images = np.vstack(MNIST_train_images)\n",
    "MNIST_train_labels = np.concatenate(MNIST_train_labels)\n",
    "MNIST_test_images = []\n",
    "MNIST_test_labels = []\n",
    "for batch in MNIST_test:\n",
    "    images, labels = batch\n",
    "    images_flat = images.view(images.shape[0], -1)\n",
    "    MNIST_test_images.append(images_flat.numpy())\n",
    "    MNIST_test_labels.append(labels.numpy())\n",
    "MNIST_test_images = np.vstack(MNIST_test_images)\n",
    "MNIST_test_labels = np.concatenate(MNIST_test_labels)"
   ]
  },
  {
   "attachments": {},
   "cell_type": "markdown",
   "metadata": {},
   "source": [
    "Decision Tree for MNIST"
   ]
  },
  {
   "cell_type": "code",
   "execution_count": 5,
   "metadata": {},
   "outputs": [
    {
     "name": "stdout",
     "output_type": "stream",
     "text": [
      "Best param : {'max_leaf_nodes': 10, 'min_samples_leaf': 1, 'min_samples_split': 2}\n",
      "Training Accuracy: 0.49151666666666666\n",
      "Test Accuracy: 0.4953\n",
      "Best param : {'max_leaf_nodes': None, 'min_samples_leaf': 1, 'min_samples_split': 2}\n",
      "Training Accuracy: 0.73825\n",
      "Test Accuracy: 0.7415\n",
      "Best param : {'max_leaf_nodes': None, 'min_samples_leaf': 4, 'min_samples_split': 2}\n",
      "Training Accuracy: 0.8654833333333334\n",
      "Test Accuracy: 0.8494\n",
      "Best param : {'max_leaf_nodes': None, 'min_samples_leaf': 1, 'min_samples_split': 2}\n",
      "Training Accuracy: 0.94915\n",
      "Test Accuracy: 0.8772\n"
     ]
    }
   ],
   "source": [
    "params_grid = { 'min_samples_split': [2, 5, 10],\n",
    "               'min_samples_leaf': [1, 2, 4],\n",
    "               'max_leaf_nodes': [5, 10, None]}\n",
    "\n",
    "for depth in range (1,5):\n",
    "    tree = DecisionTreeClassifier(max_depth=3*depth)\n",
    "    GR=GridSearchCV(tree,param_grid=params_grid,cv=5,scoring='accuracy',refit=True)\n",
    "    GR.fit(MNIST_train_images,MNIST_train_labels)\n",
    "    print(\"Best param :\",GR.best_params_)\n",
    "    print('Training Accuracy:', GR.score(MNIST_train_images,MNIST_train_labels))\n",
    "    print('Test Accuracy:', GR.score(MNIST_test_images,MNIST_test_labels))"
   ]
  },
  {
   "attachments": {},
   "cell_type": "markdown",
   "metadata": {},
   "source": [
    "|Depth|Training Accuracy|Test Accuracy|Best param|\n",
    "|-----|-----------------|-------------|-----------------------------------------------|\n",
    "|3|0.49151666666|0.4953|'max_leaf_nodes': 10, 'min_samples_leaf': 1, 'min_samples_split': 2|\n",
    "|6|0.73825|0.7415|'max_leaf_nodes': None, 'min_samples_leaf': 1, 'min_samples_split': 2|\n",
    "|9|0.86548333333|0.8494|'max_leaf_nodes': None, 'min_samples_leaf': 4, 'min_samples_split': 2|\n",
    "|12|0.94915|0.8772|'max_leaf_nodes': None, 'min_samples_leaf': 1, 'min_samples_split': 2|"
   ]
  },
  {
   "attachments": {},
   "cell_type": "markdown",
   "metadata": {},
   "source": [
    "Decision Tree for CIFAR"
   ]
  },
  {
   "cell_type": "code",
   "execution_count": 4,
   "metadata": {},
   "outputs": [
    {
     "name": "stdout",
     "output_type": "stream",
     "text": [
      "Best param : {'max_leaf_nodes': 10, 'min_samples_leaf': 1, 'min_samples_split': 2}\n",
      "Training Accuracy: 0.23762\n",
      "Test Accuracy: 0.2394\n",
      "Best param : {'max_leaf_nodes': None, 'min_samples_leaf': 1, 'min_samples_split': 2}\n",
      "Training Accuracy: 0.29588\n",
      "Test Accuracy: 0.2812\n",
      "Best param : {'max_leaf_nodes': None, 'min_samples_leaf': 4, 'min_samples_split': 10}\n",
      "Training Accuracy: 0.38212\n",
      "Test Accuracy: 0.3042\n",
      "Best param : {'max_leaf_nodes': None, 'min_samples_leaf': 4, 'min_samples_split': 5}\n",
      "Training Accuracy: 0.521\n",
      "Test Accuracy: 0.3044\n"
     ]
    }
   ],
   "source": [
    "params_grid = { 'min_samples_split': [2, 5, 10],\n",
    "               'min_samples_leaf': [1, 2, 4],\n",
    "               'max_leaf_nodes': [5, 10, None]}\n",
    "\n",
    "for depth in range (1,5):\n",
    "    tree = DecisionTreeClassifier(max_depth=3*depth)\n",
    "    GR=GridSearchCV(tree,param_grid=params_grid,cv=5,scoring='accuracy',refit=True)\n",
    "    GR.fit(CIFAR_train_images,CIFAR_train_labels)\n",
    "    print(\"Best param :\",GR.best_params_)\n",
    "    print('Training Accuracy:', GR.score(CIFAR_train_images,CIFAR_train_labels))\n",
    "    print('Test Accuracy:', GR.score(CIFAR_test_images,CIFAR_test_labels))"
   ]
  },
  {
   "attachments": {},
   "cell_type": "markdown",
   "metadata": {},
   "source": [
    "|Depth|Training Accuracy|Test Accuracy|Best param|\n",
    "|-----|-----------------|-------------|-----------------------------------------------|\n",
    "|3|0.23762|0.2394|'max_leaf_nodes': 10, 'min_samples_leaf': 1, 'min_samples_split': 2|\n",
    "|6|0.29588|0.2812|'max_leaf_nodes': None, 'min_samples_leaf': 1, 'min_samples_split': 2|\n",
    "|9|0.38212|0.3042|'max_leaf_nodes': None, 'min_samples_leaf': 4, 'min_samples_split': 10|\n",
    "|12|0.521|0.3044|'max_leaf_nodes': None, 'min_samples_leaf': 4, 'min_samples_split': 5|"
   ]
  },
  {
   "attachments": {},
   "cell_type": "markdown",
   "metadata": {},
   "source": [
    "SVM for MNIST"
   ]
  },
  {
   "cell_type": "code",
   "execution_count": 5,
   "metadata": {},
   "outputs": [
    {
     "name": "stdout",
     "output_type": "stream",
     "text": [
      "Linear Training Accuracy:  0.9707333333333333\n",
      "Linear Test Accuracy:  0.9403\n",
      "RBF Training Accuracy:  0.9899166666666667\n",
      "RBF Test Accuracy:  0.9792\n"
     ]
    }
   ],
   "source": [
    "svm_clf=svm.SVC(kernel='linear')\n",
    "svm_clf.fit(MNIST_train_images,MNIST_train_labels)\n",
    "print('Linear Training Accuracy: ',svm_clf.score(MNIST_train_images,MNIST_train_labels))\n",
    "print('Linear Test Accuracy: ',svm_clf.score(MNIST_test_images,MNIST_test_labels))\n",
    "svm_clf=svm.SVC(kernel='rbf')\n",
    "svm_clf.fit(MNIST_train_images,MNIST_train_labels)\n",
    "print('RBF Training Accuracy: ',svm_clf.score(MNIST_train_images,MNIST_train_labels))\n",
    "print('RBF Test Accuracy: ',svm_clf.score(MNIST_test_images,MNIST_test_labels))"
   ]
  },
  {
   "attachments": {},
   "cell_type": "markdown",
   "metadata": {},
   "source": [
    "|Kernel|Training Accuracy|Test Accuracy|\n",
    "|-----|-----------------|-------------|\n",
    "|Linear|0.97073333333|0.9403|\n",
    "|RBF|0.98991666666|0.9792|"
   ]
  },
  {
   "attachments": {},
   "cell_type": "markdown",
   "metadata": {},
   "source": [
    "SVM for CIFAR"
   ]
  },
  {
   "cell_type": "code",
   "execution_count": 6,
   "metadata": {},
   "outputs": [
    {
     "name": "stdout",
     "output_type": "stream",
     "text": [
      "Linear Training Accuracy:  0.5749\n",
      "Linear Test Accuracy:  0.3755\n",
      "RBF Training Accuracy:  0.70286\n",
      "RBF Test Accuracy:  0.5436\n"
     ]
    }
   ],
   "source": [
    "svm_clf=svm.SVC(kernel='linear')\n",
    "svm_clf.fit(CIFAR_train_images,CIFAR_train_labels)\n",
    "print('Linear Training Accuracy: ',svm_clf.score(CIFAR_train_images,CIFAR_train_labels))\n",
    "print('Linear Test Accuracy: ',svm_clf.score(CIFAR_test_images,CIFAR_test_labels))\n",
    "svm_clf=svm.SVC(kernel='rbf')\n",
    "svm_clf.fit(CIFAR_train_images,CIFAR_train_labels)\n",
    "print('RBF Training Accuracy: ',svm_clf.score(CIFAR_train_images,CIFAR_train_labels))\n",
    "print('RBF Test Accuracy: ',svm_clf.score(CIFAR_test_images,CIFAR_test_labels))"
   ]
  },
  {
   "attachments": {},
   "cell_type": "markdown",
   "metadata": {},
   "source": [
    "|Kernel|Training Accuracy|Test Accuracy|\n",
    "|-----|-----------------|-------------|\n",
    "|Linear|0.5749|0.3755|\n",
    "|RBF|0.70286|0.5436|"
   ]
  }
 ],
 "metadata": {
  "kernelspec": {
   "display_name": "Python 3",
   "language": "python",
   "name": "python3"
  },
  "language_info": {
   "codemirror_mode": {
    "name": "ipython",
    "version": 3
   },
   "file_extension": ".py",
   "mimetype": "text/x-python",
   "name": "python",
   "nbconvert_exporter": "python",
   "pygments_lexer": "ipython3",
   "version": "3.10.10"
  },
  "orig_nbformat": 4
 },
 "nbformat": 4,
 "nbformat_minor": 2
}
